{
 "cells": [
  {
   "cell_type": "markdown",
   "id": "fb93fbbc",
   "metadata": {},
   "source": [
    "# Importing necessary tools"
   ]
  },
  {
   "cell_type": "code",
   "execution_count": 1,
   "id": "9ead0994",
   "metadata": {},
   "outputs": [],
   "source": [
    "import numpy as np\n",
    "import pandas as pd\n",
    "import matplotlib.pyplot as plt\n",
    "import re\n",
    "import seaborn as sn\n",
    "from gensim.models import KeyedVectors\n",
    "from keras.wrappers.scikit_learn import KerasClassifier\n",
    "import keras.backend as K\n",
    "from keras.preprocessing.sequence import pad_sequences\n",
    "from keras.utils.np_utils import to_categorical\n",
    "from keras.models import Sequential\n",
    "from keras.layers import Embedding\n",
    "from keras.layers import Dense, Input\n",
    "from keras.layers import TimeDistributed\n",
    "from keras.layers import LSTM, GRU, Bidirectional, SimpleRNN, Dropout\n",
    "\n",
    "from keras.models import Model\n",
    "from keras.preprocessing.text import Tokenizer\n",
    "\n",
    "from sklearn.model_selection import train_test_split\n",
    "from sklearn.utils import shuffle\n",
    "%matplotlib inline\n",
    "\n",
    "import warnings\n",
    "warnings.filterwarnings(\"ignore\")"
   ]
  },
  {
   "cell_type": "markdown",
   "id": "73b80da4",
   "metadata": {},
   "source": [
    "# Data Pre-Processing"
   ]
  },
  {
   "cell_type": "code",
   "execution_count": 2,
   "id": "2d03a0e6",
   "metadata": {},
   "outputs": [
    {
     "name": "stdout",
     "output_type": "stream",
     "text": [
      "[('Həkan-həkan', 'Isim'), ('içində', 'Zərf'), (',', ','), ('qoz', 'Isim'), ('girdəkan', 'Isim'), ('içində', 'Zərf'), (',', ','), ('dəvə', 'Isim'), ('dəlləklik', 'Isim'), ('elər', 'Fel'), (',', ','), ('köhnə', 'Sifət'), ('hamam', 'Isim'), ('içində', 'Zərf'), ('.', 'Durğu_işarəsi')]\n"
     ]
    }
   ],
   "source": [
    "with open(\"clean_az_brown2.txt\", 'r', encoding='utf-8') as f:\n",
    "    s2 = f.read().splitlines()\n",
    "    \n",
    "s3 = [re.sub('\\n', '', sentence) for sentence in s2]    \n",
    "\n",
    "tagged_sentences = [sentence.split(\" \") for sentence in s3]\n",
    "\n",
    "corpus = [[tuple(word.split(\"/\")) for word in sentence] for sentence in tagged_sentences]\n",
    "\n",
    "print(corpus[0])"
   ]
  },
  {
   "cell_type": "markdown",
   "id": "71213516",
   "metadata": {},
   "source": [
    "# Word & Tag Seperation"
   ]
  },
  {
   "cell_type": "code",
   "execution_count": 3,
   "id": "2e645080",
   "metadata": {},
   "outputs": [],
   "source": [
    "X = [] # store input sequence\n",
    "Y = [] # store output sequence\n",
    "\n",
    "for sentence in corpus:\n",
    "    X_sentence = []\n",
    "    Y_sentence = []\n",
    "    for entity in sentence:         \n",
    "        X_sentence.append(entity[0])  # entity[0] contains the word\n",
    "        Y_sentence.append(entity[1])  # entity[1] contains corresponding tag\n",
    "        \n",
    "    X.append(X_sentence)\n",
    "    Y.append(Y_sentence)  "
   ]
  },
  {
   "cell_type": "markdown",
   "id": "c4806452",
   "metadata": {},
   "source": [
    "# Encoding"
   ]
  },
  {
   "cell_type": "code",
   "execution_count": 4,
   "id": "516518cd",
   "metadata": {},
   "outputs": [],
   "source": [
    "# encode X\n",
    "word_tokenizer = Tokenizer(oov_token='-OOV-', lower=False) # instantiate tokeniser\n",
    "word_tokenizer.fit_on_texts(X)                    # fit tokeniser on data\n",
    "word2index = word_tokenizer.word_index\n",
    "X_encoded = word_tokenizer.texts_to_sequences(X)  # use the tokeniser to encode input sequence\n",
    "\n",
    "# encode Y\n",
    "tag_tokenizer = Tokenizer(lower=False)\n",
    "tag_tokenizer.fit_on_texts(Y)\n",
    "tag2index = tag_tokenizer.word_index\n",
    "Y_encoded = tag_tokenizer.texts_to_sequences(Y)\n"
   ]
  },
  {
   "cell_type": "code",
   "execution_count": 5,
   "id": "411985e6",
   "metadata": {},
   "outputs": [],
   "source": [
    "# words, tags = set([]), set([])\n",
    "\n",
    "# for s in sentences:\n",
    "#     for w in s:\n",
    "#         words.add(w)\n",
    "        \n",
    "# for ts in sentence_tags:\n",
    "#     for t in ts:\n",
    "#         tags.add(t)\n",
    "        \n",
    "# word2index = {w: i + 1 for i, w in enumerate(list(words))}\n",
    "# tag2index = {t: i + 1 for i, t in enumerate(list(tags))}"
   ]
  },
  {
   "cell_type": "code",
   "execution_count": 6,
   "id": "ec4f40f1",
   "metadata": {},
   "outputs": [],
   "source": [
    "# sentences_encoded, sentence_tags_encoded = [], []\n",
    "\n",
    "# for s in sentences:\n",
    "#     s_int = []\n",
    "#     for w in s:\n",
    "#         try:\n",
    "#             s_int.append(word2index[w])\n",
    "#         except KeyError:\n",
    "#             pass\n",
    " \n",
    "#     sentences_encoded.append(s_int)\n",
    "    \n",
    "# for s in sentence_tags:\n",
    "#     sentence_tags_encoded.append([tag2index[t] for t in s])      \n",
    "\n",
    "# print(\"** Raw data point **\", \"\\n\", \"-\"*100, \"\\n\")\n",
    "# print('X: ', sentences[0], '\\n')\n",
    "# print('Y: ', sentence_tags[0], '\\n')\n",
    "# print()\n",
    "# print(\"** Encoded data point **\", \"\\n\", \"-\"*100, \"\\n\")\n",
    "# print('X: ', sentences_encoded[0], '\\n')\n",
    "# print('Y: ', sentence_tags_encoded[0], '\\n')"
   ]
  },
  {
   "cell_type": "code",
   "execution_count": 7,
   "id": "aafce125",
   "metadata": {},
   "outputs": [
    {
     "name": "stdout",
     "output_type": "stream",
     "text": [
      "Total number of tagged sentences: 1806\n",
      "Vocabulary size: 7073\n",
      "Total number of tags: 15\n",
      "0 sentences have disparate input-output lengths.\n",
      "Length of longest sentence: 88\n"
     ]
    },
    {
     "data": {
      "image/png": "[encoded data removed]",
      "text/plain": [
       "<Figure size 432x288 with 1 Axes>"
      ]
     },
     "metadata": {
      "needs_background": "light"
     },
     "output_type": "display_data"
    }
   ],
   "source": [
    "print(\"Total number of tagged sentences: {}\".format(len(corpus)))\n",
    "print(\"Vocabulary size: {}\".format(len(word2index)))\n",
    "print(\"Total number of tags: {}\".format(len(tag2index)))\n",
    "\n",
    "\n",
    "# make sure that each sequence of input and output is same length\n",
    "\n",
    "different_length = [1 if len(input) != len(output) else 0 for input, output in zip(X_encoded, Y_encoded)]\n",
    "print(\"{} sentences have disparate input-output lengths.\".format(sum(different_length)))\n",
    "\n",
    "# check length of longest sentence\n",
    "lengths = [len(seq) for seq in X_encoded]\n",
    "print(\"Length of longest sentence: {}\".format(max(lengths)))\n",
    "\n",
    "sn.boxplot(lengths)\n",
    "plt.show()"
   ]
  },
  {
   "cell_type": "markdown",
   "id": "a5e923dc",
   "metadata": {},
   "source": [
    "# Pad sequence"
   ]
  },
  {
   "cell_type": "code",
   "execution_count": 8,
   "id": "6e901a20",
   "metadata": {},
   "outputs": [],
   "source": [
    "# Pad each sequence to MAX_SEQ_LENGTH using KERAS' pad_sequences() function. \n",
    "\n",
    "# Truncation and padding can either be 'pre' or 'post'. \n",
    "# We will use padding with 'post'\n",
    "\n",
    "MAX_SEQ_LENGTH = 88  # sequences lesser than 88 will be added zeros\n",
    "\n",
    "X_padded = pad_sequences(X_encoded, maxlen=MAX_SEQ_LENGTH, padding=\"post\")\n",
    "Y_padded = pad_sequences(Y_encoded, maxlen=MAX_SEQ_LENGTH, padding=\"post\")"
   ]
  },
  {
   "cell_type": "code",
   "execution_count": 9,
   "id": "c5168280",
   "metadata": {},
   "outputs": [
    {
     "name": "stdout",
     "output_type": "stream",
     "text": [
      "[2154  217    3  768 1200  217    3 2155 2156 2157    3  555 2158  217\n",
      "    2    0    0    0    0    0    0    0    0    0    0    0    0    0\n",
      "    0    0    0    0    0    0    0    0    0    0    0    0    0    0\n",
      "    0    0    0    0    0    0    0    0    0    0    0    0    0    0\n",
      "    0    0    0    0    0    0    0    0    0    0    0    0    0    0\n",
      "    0    0    0    0    0    0    0    0    0    0    0    0    0    0\n",
      "    0    0    0    0] \n",
      "\n",
      "\n",
      "\n",
      "[1 7 6 1 1 7 6 1 1 2 6 5 1 7 3 0 0 0 0 0 0 0 0 0 0 0 0 0 0 0 0 0 0 0 0 0 0\n",
      " 0 0 0 0 0 0 0 0 0 0 0 0 0 0 0 0 0 0 0 0 0 0 0 0 0 0 0 0 0 0 0 0 0 0 0 0 0\n",
      " 0 0 0 0 0 0 0 0 0 0 0 0 0 0]\n"
     ]
    }
   ],
   "source": [
    "# print the first sequence\n",
    "print(X_padded[0], \"\\n\"*3)\n",
    "print(Y_padded[0])"
   ]
  },
  {
   "cell_type": "markdown",
   "id": "6e8d5410",
   "metadata": {},
   "source": [
    "#### RNN will learn the zero to zero mapping while training. So we don't need to worry about the padded zeroes. Please note that zero is not reserved for any word or tag, it's only reserved for padding."
   ]
  },
  {
   "cell_type": "code",
   "execution_count": 10,
   "id": "f5de836c",
   "metadata": {},
   "outputs": [],
   "source": [
    "# assign padded sequences to X and Y\n",
    "X, Y = X_padded, Y_padded"
   ]
  },
  {
   "cell_type": "markdown",
   "id": "af70e0db",
   "metadata": {},
   "source": [
    "# WORD EMBEDDING\n",
    "\n",
    "Currently, each word and each tag is encoded as an integer.\n",
    "\n",
    "We'll use a more sophisticated technique to represent the input words (X) using what's known as word embeddings.\n",
    "\n",
    "However, to represent each tag in Y, we'll simply use one-hot encoding scheme since there are only 13 tags in the dataset and the models won't have any problems in learning its own representation of these tags.\n",
    "\n",
    "To use word embeddings, you can go for either of the following models:\n",
    "\n",
    "* word2vec model: https://code.google.com/archive/p/word2vec/\n",
    "* GloVe model : https://nlp.stanford.edu/projects/glove/\n",
    "* fastText : https://fasttext.cc/docs/en/crawl-vectors.html\n",
    "\n",
    "We're using the fastText model because they have pre-trained model for Azerbaijani lanuage.\n",
    "\n",
    "Dimensions of a word embedding is: (VOCABULARY_SIZE, EMBEDDING_DIMENSION)"
   ]
  },
  {
   "cell_type": "code",
   "execution_count": 11,
   "id": "77537e21",
   "metadata": {},
   "outputs": [
    {
     "name": "stderr",
     "output_type": "stream",
     "text": [
      "Warning : `load_model` does not return WordVectorModel or SupervisedModel any more, but a `FastText` object which is very similar.\n"
     ]
    }
   ],
   "source": [
    "import fasttext\n",
    "\n",
    "path = 'D:/PostgresData/cc.az.300.bin'\n",
    "ft = fasttext.load_model(path)"
   ]
  },
  {
   "cell_type": "code",
   "execution_count": 12,
   "id": "6011c205",
   "metadata": {},
   "outputs": [],
   "source": [
    "# assign word vectors from word2vec model\n",
    "\n",
    "EMBEDDING_SIZE  = 300  # each word in word2vec model is represented using a 300 dimensional vector\n",
    "VOCABULARY_SIZE = len(word2index) + 1\n",
    "\n",
    "# create an empty embedding matix\n",
    "embedding_weights = np.zeros((VOCABULARY_SIZE, EMBEDDING_SIZE))\n",
    "\n",
    "# copy vectors from fasttext model to the words present in corpus\n",
    "for w, i in word2index.items():\n",
    "    try:\n",
    "        embedding_weights[i, :] = ft[w]\n",
    "    except KeyError:\n",
    "        pass"
   ]
  },
  {
   "cell_type": "code",
   "execution_count": 13,
   "id": "d01d98d7",
   "metadata": {},
   "outputs": [
    {
     "name": "stdout",
     "output_type": "stream",
     "text": [
      "Embeddings shape: (7074, 300)\n"
     ]
    }
   ],
   "source": [
    "# check embedding dimension\n",
    "print(\"Embeddings shape: {}\".format(embedding_weights.shape))"
   ]
  },
  {
   "cell_type": "code",
   "execution_count": 14,
   "id": "1b9125ab",
   "metadata": {},
   "outputs": [],
   "source": [
    "# use Keras' to_categorical function to one-hot encode Y\n",
    "Y = to_categorical(Y)"
   ]
  },
  {
   "cell_type": "code",
   "execution_count": 15,
   "id": "09a5c3c0",
   "metadata": {},
   "outputs": [
    {
     "name": "stdout",
     "output_type": "stream",
     "text": [
      "(1806, 88, 16)\n"
     ]
    }
   ],
   "source": [
    "# print Y of the first output sequqnce\n",
    "print(Y.shape)"
   ]
  },
  {
   "cell_type": "code",
   "execution_count": 16,
   "id": "c09c1e36",
   "metadata": {},
   "outputs": [],
   "source": [
    "# split entire data into training and testing sets\n",
    "TEST_SIZE = 0.2\n",
    "X_train, X_test, Y_train, Y_test = train_test_split(X, Y, test_size=TEST_SIZE, random_state=8)\n",
    "\n",
    "# split training data into training and validation sets\n",
    "VALID_SIZE = 0.25\n",
    "X_train, X_validation, Y_train, Y_validation = train_test_split(X_train, Y_train, test_size=VALID_SIZE, random_state=8)"
   ]
  },
  {
   "cell_type": "code",
   "execution_count": 17,
   "id": "14208a70",
   "metadata": {},
   "outputs": [
    {
     "name": "stdout",
     "output_type": "stream",
     "text": [
      "TRAINING DATA\n",
      "Shape of input sequences: (1083, 88)\n",
      "Shape of output sequences: (1083, 88, 16)\n",
      "--------------------------------------------------\n",
      "VALIDATION DATA\n",
      "Shape of input sequences: (361, 88)\n",
      "Shape of output sequences: (361, 88, 16)\n",
      "--------------------------------------------------\n",
      "TESTING DATA\n",
      "Shape of input sequences: (362, 88)\n",
      "Shape of output sequences: (362, 88, 16)\n"
     ]
    }
   ],
   "source": [
    "# print number of samples in each set\n",
    "print(\"TRAINING DATA\")\n",
    "print('Shape of input sequences: {}'.format(X_train.shape))\n",
    "print('Shape of output sequences: {}'.format(Y_train.shape))\n",
    "print(\"-\"*50)\n",
    "print(\"VALIDATION DATA\")\n",
    "print('Shape of input sequences: {}'.format(X_validation.shape))\n",
    "print('Shape of output sequences: {}'.format(Y_validation.shape))\n",
    "print(\"-\"*50)\n",
    "print(\"TESTING DATA\")\n",
    "print('Shape of input sequences: {}'.format(X_test.shape))\n",
    "print('Shape of output sequences: {}'.format(Y_test.shape))"
   ]
  },
  {
   "cell_type": "markdown",
   "id": "395faaac",
   "metadata": {},
   "source": [
    "#### Before using RNN, we must make sure the dimensions of the data are what an RNN expects. In general, an RNN expects the following shape\n",
    "\n",
    "* Shape of X: (#samples, #timesteps, #features)\n",
    "\n",
    "* Shape of Y: (#samples, #timesteps, #features)\n",
    "\n",
    "Now, there can be various variations in the shape that you use to feed an RNN depending on the type of architecture. Since the problem we're working on has a many-to-many architecture, the input and the output both include number of timesteps which is nothing but the sequence length. But notice that the tensor X doesn't have the third dimension, that is, number of features. That's because we're going to use word embeddings before feeding in the data to an RNN, and hence there is no need to explicitly mention the third dimension. That's because when you use the Embedding() layer in Keras, you the training data will automatically be converted to (#samples, #timesteps, #features) where #features will be the embedding dimension (and note that the Embedding layer is always the very first layer of an RNN). While using the embedding layer we only need to reshape the data to (#samples, #timesteps) which is what we have done. However, note that you'll need to shape it to (#samples, #timesteps, #features) in case you don't use the Embedding() layer in Keras."
   ]
  },
  {
   "cell_type": "code",
   "execution_count": 42,
   "id": "06ae4198",
   "metadata": {},
   "outputs": [],
   "source": [
    "NUM_CLASSES = Y.shape[2]\n",
    "BILSTM_DROPOUT = 0.7\n",
    "BILSTM_HIDDEN_LAYER_SIZE = 64\n",
    "BATCH_SIZE = 5\n",
    "EPOCH_SIZE = 5"
   ]
  },
  {
   "cell_type": "markdown",
   "id": "2238abef",
   "metadata": {},
   "source": [
    "# F1, PRECISION, RECALL SCORES"
   ]
  },
  {
   "cell_type": "code",
   "execution_count": 43,
   "id": "891d43e2",
   "metadata": {},
   "outputs": [],
   "source": [
    "def recall_m(y_true, y_pred):\n",
    "    true_positives = K.sum(K.round(K.clip(y_true * y_pred, 0, 1)))\n",
    "    possible_positives = K.sum(K.round(K.clip(y_true, 0, 1)))\n",
    "    recall = true_positives / (possible_positives + K.epsilon())\n",
    "    return recall\n",
    "\n",
    "def precision_m(y_true, y_pred):\n",
    "    true_positives = K.sum(K.round(K.clip(y_true * y_pred, 0, 1)))\n",
    "    predicted_positives = K.sum(K.round(K.clip(y_pred, 0, 1)))\n",
    "    precision = true_positives / (predicted_positives + K.epsilon())\n",
    "    return precision\n",
    "\n",
    "def f1_m(y_true, y_pred):\n",
    "    precision = precision_m(y_true, y_pred)\n",
    "    recall = recall_m(y_true, y_pred)\n",
    "    return 2*((precision*recall)/(precision+recall+K.epsilon()))\n",
    "\n",
    "# def ignore_class_accuracy(to_ignore=0):\n",
    "#     def ignore_accuracy(y_true, y_pred):\n",
    "#         y_true_class = K.argmax(y_true, axis=-1)\n",
    "#         y_pred_class = K.argmax(y_pred, axis=-1)\n",
    " \n",
    "#         ignore_mask = K.cast(K.not_equal(y_pred_class, to_ignore), 'int32')\n",
    "#         matches = K.cast(K.equal(y_true_class, y_pred_class), 'int32') * ignore_mask\n",
    "#         accuracy = K.sum(matches) / K.maximum(K.sum(ignore_mask), 1)\n",
    "#         return accuracy\n",
    "#     return ignore_accuracy\n",
    "# , ignore_class_accuracy(0)"
   ]
  },
  {
   "cell_type": "markdown",
   "id": "8d5061af",
   "metadata": {},
   "source": [
    "# 4. Bidirectional LSTM"
   ]
  },
  {
   "cell_type": "code",
   "execution_count": 44,
   "id": "4dd903ad",
   "metadata": {
    "scrolled": true
   },
   "outputs": [
    {
     "name": "stdout",
     "output_type": "stream",
     "text": [
      "Model: \"sequential_1\"\n",
      "_________________________________________________________________\n",
      " Layer (type)                Output Shape              Param #   \n",
      "=================================================================\n",
      " embedding_1 (Embedding)     (None, 88, 300)           2122200   \n",
      "                                                                 \n",
      " bidirectional_1 (Bidirectio  (None, 88, 128)          186880    \n",
      " nal)                                                            \n",
      "                                                                 \n",
      " dropout_1 (Dropout)         (None, 88, 128)           0         \n",
      "                                                                 \n",
      " time_distributed_1 (TimeDis  (None, 88, 16)           2064      \n",
      " tributed)                                                       \n",
      "                                                                 \n",
      "=================================================================\n",
      "Total params: 2,311,144\n",
      "Trainable params: 2,311,144\n",
      "Non-trainable params: 0\n",
      "_________________________________________________________________\n",
      "Epoch 1/5\n",
      "217/217 [==============================] - 8s 28ms/step - loss: 0.4048 - acc: 0.9104 - f1_m: 0.8778 - precision_m: 0.9378 - recall_m: 0.8325 - val_loss: 0.1852 - val_acc: 0.9464 - val_f1_m: 0.9484 - val_precision_m: 0.9963 - val_recall_m: 0.9051\n",
      "Epoch 2/5\n",
      "217/217 [==============================] - 6s 27ms/step - loss: 0.1619 - acc: 0.9523 - f1_m: 0.9551 - precision_m: 0.9866 - recall_m: 0.9259 - val_loss: 0.1100 - val_acc: 0.9676 - val_f1_m: 0.9705 - val_precision_m: 0.9867 - val_recall_m: 0.9548\n",
      "Epoch 3/5\n",
      "217/217 [==============================] - 7s 34ms/step - loss: 0.0882 - acc: 0.9749 - f1_m: 0.9766 - precision_m: 0.9922 - recall_m: 0.9615 - val_loss: 0.0736 - val_acc: 0.9793 - val_f1_m: 0.9791 - val_precision_m: 0.9873 - val_recall_m: 0.9711\n",
      "Epoch 4/5\n",
      "217/217 [==============================] - 8s 35ms/step - loss: 0.0473 - acc: 0.9878 - f1_m: 0.9872 - precision_m: 0.9956 - recall_m: 0.9790 - val_loss: 0.0618 - val_acc: 0.9821 - val_f1_m: 0.9825 - val_precision_m: 0.9863 - val_recall_m: 0.9787\n",
      "Epoch 5/5\n",
      "217/217 [==============================] - 7s 34ms/step - loss: 0.0303 - acc: 0.9925 - f1_m: 0.9920 - precision_m: 0.9961 - recall_m: 0.9880 - val_loss: 0.0606 - val_acc: 0.9830 - val_f1_m: 0.9829 - val_precision_m: 0.9850 - val_recall_m: 0.9807\n"
     ]
    }
   ],
   "source": [
    "# create architecture\n",
    "\n",
    "bidirect_model = Sequential()\n",
    "bidirect_model.add(Embedding(input_dim     = VOCABULARY_SIZE,\n",
    "                             output_dim    = EMBEDDING_SIZE,\n",
    "                             input_length  = MAX_SEQ_LENGTH,\n",
    "                             weights       = [embedding_weights],\n",
    "                             trainable     = True\n",
    "))\n",
    "bidirect_model.add(Bidirectional(LSTM(64, return_sequences=True)))\n",
    "bidirect_model.add(Dropout(0.7))\n",
    "bidirect_model.add(TimeDistributed(Dense(NUM_CLASSES, activation='softmax')))\n",
    "\n",
    "bidirect_model.compile(loss='categorical_crossentropy',\n",
    "              optimizer='adam',\n",
    "              metrics=['acc', f1_m, precision_m, recall_m])\n",
    "\n",
    "# check summary of model\n",
    "bidirect_model.summary()\n",
    "\n",
    "bidirect_training = bidirect_model.fit(X_train, Y_train, batch_size=BATCH_SIZE, epochs=EPOCH_SIZE, validation_data=(X_validation, Y_validation))"
   ]
  },
  {
   "cell_type": "markdown",
   "id": "aa2b780e",
   "metadata": {},
   "source": [
    "# Evaluation"
   ]
  },
  {
   "cell_type": "code",
   "execution_count": 45,
   "id": "77e4a2d1",
   "metadata": {},
   "outputs": [
    {
     "name": "stdout",
     "output_type": "stream",
     "text": [
      "12/12 [==============================] - 0s 24ms/step - loss: 0.0582 - acc: 0.9832 - f1_m: 0.9828 - precision_m: 0.9848 - recall_m: 0.9808\n"
     ]
    }
   ],
   "source": [
    "blstm_64_loss, blstm_64_accuracy, blstm_64_f1_score, blstm_64_precision, blstm_64_recall = bidirect_model.evaluate(X_test, Y_test, verbose = 1)"
   ]
  },
  {
   "cell_type": "code",
   "execution_count": 57,
   "id": "94fef029",
   "metadata": {},
   "outputs": [
    {
     "name": "stdout",
     "output_type": "stream",
     "text": [
      "[['Daşı', 'daşı', '.'], ['Mən', 'səhərlər', 'dənizə', 'doğru', 'qaçıram', '.']]\n",
      "[[7063  803    2    0    0    0    0    0    0    0    0    0    0    0\n",
      "     0    0    0    0    0    0    0    0    0    0    0    0    0    0\n",
      "     0    0    0    0    0    0    0    0    0    0    0    0    0    0\n",
      "     0    0    0    0    0    0    0    0    0    0    0    0    0    0\n",
      "     0    0    0    0    0    0    0    0    0    0    0    0    0    0\n",
      "     0    0    0    0    0    0    0    0    0    0    0    0    0    0\n",
      "     0    0    0    0]\n",
      " [  20    1 1637  369    1    2    0    0    0    0    0    0    0    0\n",
      "     0    0    0    0    0    0    0    0    0    0    0    0    0    0\n",
      "     0    0    0    0    0    0    0    0    0    0    0    0    0    0\n",
      "     0    0    0    0    0    0    0    0    0    0    0    0    0    0\n",
      "     0    0    0    0    0    0    0    0    0    0    0    0    0    0\n",
      "     0    0    0    0    0    0    0    0    0    0    0    0    0    0\n",
      "     0    0    0    0]]\n"
     ]
    }
   ],
   "source": [
    "test_samples = [\n",
    "    \"Daşı daşı .\".split(),\n",
    "    \"Mən səhərlər dənizə doğru qaçıram .\".split()\n",
    "]\n",
    "print(test_samples)\n",
    "\n",
    "test_samples_X = []\n",
    "\n",
    "for s in test_samples:\n",
    "    s_int = []\n",
    "    for w in s:\n",
    "        try:\n",
    "            s_int.append(word2index[w])\n",
    "        except KeyError:\n",
    "            s_int.append(word2index['-OOV-'])\n",
    "    test_samples_X.append(s_int)\n",
    "    \n",
    "test_samples_X = pad_sequences(test_samples_X, maxlen=MAX_SEQ_LENGTH, padding='post')\n",
    "print(test_samples_X)"
   ]
  },
  {
   "cell_type": "code",
   "execution_count": 58,
   "id": "c50de684",
   "metadata": {},
   "outputs": [
    {
     "name": "stdout",
     "output_type": "stream",
     "text": [
      "[[[3.9015308e-03 9.6371078e-01 2.3617987e-02 ... 5.9370991e-06\n",
      "   4.8222748e-05 2.3222769e-05]\n",
      "  [7.9643872e-04 6.6215202e-02 9.2670941e-01 ... 5.2735750e-06\n",
      "   5.1667659e-05 1.5931744e-05]\n",
      "  [3.0815729e-03 1.4121223e-05 1.4360866e-04 ... 2.6191594e-05\n",
      "   1.0649067e-05 1.5480004e-05]\n",
      "  ...\n",
      "  [9.9999261e-01 5.1313503e-07 1.2103123e-07 ... 1.2062948e-06\n",
      "   6.1814086e-07 1.4401484e-06]\n",
      "  [9.9996674e-01 7.3406306e-07 2.3617459e-07 ... 8.6759255e-06\n",
      "   3.1104385e-06 7.5706757e-06]\n",
      "  [9.9984646e-01 1.0935568e-06 4.6852333e-07 ... 5.5329405e-05\n",
      "   1.4177645e-05 3.6395741e-05]]\n",
      "\n",
      " [[8.2306542e-06 1.4812345e-04 1.3373687e-04 ... 1.1759745e-06\n",
      "   1.6169921e-05 6.8520858e-06]\n",
      "  [3.4128043e-03 8.3966792e-01 2.4667645e-02 ... 1.6957552e-04\n",
      "   9.5505425e-04 5.3018989e-04]\n",
      "  [2.0721214e-05 9.9796200e-01 6.6719123e-04 ... 4.1874014e-07\n",
      "   3.1412703e-06 9.7783288e-07]\n",
      "  ...\n",
      "  [9.9999225e-01 5.1598352e-07 1.2174476e-07 ... 1.2424539e-06\n",
      "   6.3496174e-07 1.4811109e-06]\n",
      "  [9.9996579e-01 7.3807416e-07 2.3754549e-07 ... 8.9323212e-06\n",
      "   3.1938473e-06 7.7829254e-06]\n",
      "  [9.9984205e-01 1.0994297e-06 4.7119727e-07 ... 5.6940924e-05\n",
      "   1.4552172e-05 3.7401220e-05]]] (2, 88, 16)\n"
     ]
    }
   ],
   "source": [
    "predictions = bidirect_model.predict(test_samples_X)\n",
    "print(predictions, predictions.shape)"
   ]
  },
  {
   "cell_type": "code",
   "execution_count": 59,
   "id": "03471912",
   "metadata": {},
   "outputs": [],
   "source": [
    "def logits_to_tokens(sequences, index):\n",
    "    token_sequences = []\n",
    "    for categorical_sequence in sequences:\n",
    "        token_sequence = []\n",
    "        for categorical in categorical_sequence:\n",
    "            try:\n",
    "                token_sequence.append(index[np.argmax(categorical)])\n",
    "            except KeyError:\n",
    "                pass\n",
    "        token_sequences.append(token_sequence)\n",
    " \n",
    "    return token_sequences"
   ]
  },
  {
   "cell_type": "code",
   "execution_count": 60,
   "id": "bf777497",
   "metadata": {},
   "outputs": [
    {
     "name": "stdout",
     "output_type": "stream",
     "text": [
      "['Daşı', 'daşı', '.'] \n",
      "\n",
      "\n",
      "['Mən', 'səhərlər', 'dənizə', 'doğru', 'qaçıram', '.'] \n",
      "\n",
      "\n",
      "['Isim', 'Fel', 'Durğu_işarəsi'] \n",
      "\n",
      "\n",
      "['Əvəzlik', 'Isim', 'Isim', 'Qoşma', 'Fel', 'Durğu_işarəsi'] \n",
      "\n",
      "\n"
     ]
    }
   ],
   "source": [
    "result = logits_to_tokens(predictions, {i: t for t, i in tag2index.items()})\n",
    "\n",
    "for i in test_samples:\n",
    "    print(i, \"\\n\"*2) \n",
    "\n",
    "for i in result:\n",
    "    print(i, \"\\n\"*2) "
   ]
  },
  {
   "cell_type": "code",
   "execution_count": 51,
   "id": "241e2ca1",
   "metadata": {},
   "outputs": [],
   "source": [
    "%store -r rnn_64_training_f1 \n",
    "%store -r lstm_64_training_f1 \n",
    "%store -r gru_64_training_f1 "
   ]
  },
  {
   "cell_type": "code",
   "execution_count": 61,
   "id": "2218dbd8",
   "metadata": {},
   "outputs": [],
   "source": [
    "blstm_64_training_f1 = bidirect_training.history['val_f1_m']"
   ]
  },
  {
   "cell_type": "code",
   "execution_count": 62,
   "id": "29d01bd5",
   "metadata": {},
   "outputs": [
    {
     "data": {
      "image/png": "[encoded data removed]",
      "text/plain": [
       "<Figure size 432x288 with 1 Axes>"
      ]
     },
     "metadata": {
      "needs_background": "light"
     },
     "output_type": "display_data"
    }
   ],
   "source": [
    "# visualise training history\n",
    "\n",
    "plt.plot(blstm_64_training_f1)\n",
    "plt.plot(rnn_64_training_f1)\n",
    "plt.plot(lstm_64_training_f1)\n",
    "plt.plot(gru_64_training_f1)\n",
    "plt.title('F1 score for Azerbaijani with 64 layer')\n",
    "plt.ylabel('F1_Measurement')\n",
    "plt.xlabel('epoch')\n",
    "plt.legend(['bi-lstm', 'rnn', 'lstm', 'gru'], loc=\"lower right\")\n",
    "plt.show()"
   ]
  },
  {
   "cell_type": "code",
   "execution_count": null,
   "id": "5cc58271",
   "metadata": {},
   "outputs": [],
   "source": []
  }
 ],
 "metadata": {
  "kernelspec": {
   "display_name": "Python 3 (ipykernel)",
   "language": "python",
   "name": "python3"
  },
  "language_info": {
   "codemirror_mode": {
    "name": "ipython",
    "version": 3
   },
   "file_extension": ".py",
   "mimetype": "text/x-python",
   "name": "python",
   "nbconvert_exporter": "python",
   "pygments_lexer": "ipython3",
   "version": "3.9.6"
  }
 },
 "nbformat": 4,
 "nbformat_minor": 5
}
